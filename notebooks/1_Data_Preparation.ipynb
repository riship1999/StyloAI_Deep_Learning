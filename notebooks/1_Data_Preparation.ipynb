{
 "cells": [
  {
   "cell_type": "markdown",
   "metadata": {},
   "source": [
    "# Data Preparation for Fashion Recommendation System 📊\n",
    "\n",
    "This notebook covers:\n",
    "1. Data loading and cleaning\n",
    "2. Feature extraction\n",
    "3. Data preprocessing\n",
    "4. Train-test split"
   ]
  },
  {
   "cell_type": "code",
   "execution_count": null,
   "metadata": {},
   "source": [
    "# Import required libraries\n",
    "import pandas as pd\n",
    "import numpy as np\n",
    "from sklearn.model_selection import train_test_split\n",
    "from sklearn.preprocessing import LabelEncoder, StandardScaler\n",
    "import matplotlib.pyplot as plt\n",
    "import seaborn as sns"
   ]
  },
  {
   "cell_type": "markdown",
   "metadata": {},
   "source": [
    "## 1. Load and Explore Data"
   ]
  },
  {
   "cell_type": "code",
   "execution_count": null,
   "metadata": {},
   "source": [
    "# Load fashion product data\n",
    "df = pd.read_csv('../fashion_products.csv')\n",
    "\n",
    "# Display basic information\n",
    "print(\"Dataset Shape:\", df.shape)\n",
    "print(\"\\nColumns:\", df.columns.tolist())\n",
    "print(\"\\nSample Data:\")\n",
    "df.head()"
   ]
  },
  {
   "cell_type": "markdown",
   "metadata": {},
   "source": [
    "## 2. Data Cleaning"
   ]
  },
  {
   "cell_type": "code",
   "execution_count": null,
   "metadata": {},
   "source": [
    "def clean_data(df):\n",
    "    # Remove duplicates\n",
    "    df = df.drop_duplicates()\n",
    "    \n",
    "    # Handle missing values\n",
    "    df['Description'] = df['Description'].fillna('')\n",
    "    df['Brand'] = df['Brand'].fillna('Unknown')\n",
    "    \n",
    "    # Convert price to numeric\n",
    "    df['Price'] = pd.to_numeric(df['Price'], errors='coerce')\n",
    "    \n",
    "    return df\n",
    "\n",
    "df_clean = clean_data(df)\n",
    "print(\"Cleaned dataset shape:\", df_clean.shape)"
   ]
  },
  {
   "cell_type": "markdown",
   "metadata": {},
   "source": [
    "## 3. Feature Engineering"
   ]
  },
  {
   "cell_type": "code",
   "execution_count": null,
   "metadata": {},
   "source": [
    "def engineer_features(df):\n",
    "    # Create price categories\n",
    "    df['PriceCategory'] = pd.qcut(df['Price'], q=5, labels=['Budget', 'Low', 'Medium', 'High', 'Premium'])\n",
    "    \n",
    "    # Encode categorical variables\n",
    "    le = LabelEncoder()\n",
    "    df['CategoryEncoded'] = le.fit_transform(df['Category'])\n",
    "    df['BrandEncoded'] = le.fit_transform(df['Brand'])\n",
    "    \n",
    "    # Create season feature based on release date\n",
    "    df['Season'] = pd.to_datetime(df['ReleaseDate']).dt.quarter.map({1: 'Winter', 2: 'Spring', 3: 'Summer', 4: 'Fall'})\n",
    "    \n",
    "    return df\n",
    "\n",
    "df_featured = engineer_features(df_clean)\n",
    "df_featured.head()"
   ]
  },
  {
   "cell_type": "markdown",
   "metadata": {},
   "source": [
    "## 4. Data Analysis"
   ]
  },
  {
   "cell_type": "code",
   "execution_count": null,
   "metadata": {},
   "source": [
    "# Analyze price distribution\n",
    "plt.figure(figsize=(10, 6))\n",
    "sns.histplot(data=df_featured, x='Price', bins=50)\n",
    "plt.title('Price Distribution')\n",
    "plt.show()\n",
    "\n",
    "# Analyze category distribution\n",
    "plt.figure(figsize=(12, 6))\n",
    "sns.countplot(data=df_featured, y='Category', order=df_featured['Category'].value_counts().index)\n",
    "plt.title('Category Distribution')\n",
    "plt.show()"
   ]
  },
  {
   "cell_type": "markdown",
   "metadata": {},
   "source": [
    "## 5. Prepare Train-Test Split"
   ]
  },
  {
   "cell_type": "code",
   "execution_count": null,
   "metadata": {},
   "source": [
    "# Split features and target\n",
    "X = df_featured[['CategoryEncoded', 'BrandEncoded', 'Price']]\n",
    "y = df_featured['PriceCategory']\n",
    "\n",
    "# Create train-test split\n",
    "X_train, X_test, y_train, y_test = train_test_split(\n",
    "    X, y, test_size=0.2, random_state=42\n",
    ")\n",
    "\n",
    "# Scale features\n",
    "scaler = StandardScaler()\n",
    "X_train_scaled = scaler.fit_transform(X_train)\n",
    "X_test_scaled = scaler.transform(X_test)\n",
    "\n",
    "print(\"Training set shape:\", X_train.shape)\n",
    "print(\"Testing set shape:\", X_test.shape)"
   ]
  },
  {
   "cell_type": "markdown",
   "metadata": {},
   "source": [
    "## 6. Save Processed Data"
   ]
  },
  {
   "cell_type": "code",
   "execution_count": null,
   "metadata": {},
   "source": [
    "# Save processed data\n",
    "np.save('../data/X_train.npy', X_train_scaled)\n",
    "np.save('../data/X_test.npy', X_test_scaled)\n",
    "np.save('../data/y_train.npy', y_train)\n",
    "np.save('../data/y_test.npy', y_test)\n",
    "\n",
    "print(\"Data preparation completed and saved!\")"
   ]
  }
 ],
 "metadata": {
  "kernelspec": {
   "display_name": "Python 3",
   "language": "python",
   "name": "python3"
  },
  "language_info": {
   "codemirror_mode": {
    "name": "ipython",
    "version": 3
   },
   "file_extension": ".py",
   "mimetype": "text/x-python",
   "name": "python",
   "nbconvert_exporter": "python",
   "pygments_lexer": "ipython3",
   "version": "3.8.0"
  }
 },
 "nbformat": 4,
 "nbformat_minor": 4
}
